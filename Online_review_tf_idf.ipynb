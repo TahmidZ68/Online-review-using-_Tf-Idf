{
  "nbformat": 4,
  "nbformat_minor": 0,
  "metadata": {
    "colab": {
      "provenance": []
    },
    "kernelspec": {
      "name": "python3",
      "display_name": "Python 3"
    },
    "language_info": {
      "name": "python"
    }
  },
  "cells": [
    {
      "cell_type": "code",
      "execution_count": null,
      "metadata": {
        "id": "jA6hSdu_hVTf"
      },
      "outputs": [],
      "source": [
        "from pyspark.sql import SparkSession\n",
        "from pyspark.ml.feature import HashingTF, IDF, Tokenizer\n"
      ]
    },
    {
      "cell_type": "code",
      "source": [
        "spark = SparkSession.builder \\\n",
        "    .appName(\"TF-IDF Example\") \\\n",
        "    .getOrCreate()"
      ],
      "metadata": {
        "id": "pBS79wUWic7N"
      },
      "execution_count": null,
      "outputs": []
    },
    {
      "cell_type": "code",
      "source": [
        "!pip install pyspark"
      ],
      "metadata": {
        "colab": {
          "base_uri": "https://localhost:8080/"
        },
        "id": "MPXfN70-hlYi",
        "outputId": "3407a595-8337-4f88-a0c2-867f760c53d3"
      },
      "execution_count": null,
      "outputs": [
        {
          "output_type": "stream",
          "name": "stdout",
          "text": [
            "Requirement already satisfied: pyspark in /usr/local/lib/python3.10/dist-packages (3.5.1)\n",
            "Requirement already satisfied: py4j==0.10.9.7 in /usr/local/lib/python3.10/dist-packages (from pyspark) (0.10.9.7)\n"
          ]
        }
      ]
    },
    {
      "cell_type": "code",
      "source": [
        "df = spark.read.format(\"csv\") \\\n",
        "    .option(\"header\", \"true\") \\\n",
        "    .load("
      ],
      "metadata": {
        "id": "Fkuc3aeiipZ4"
      },
      "execution_count": null,
      "outputs": []
    },
    {
      "cell_type": "code",
      "source": [
        "df = df.na.drop(subset=[\"reviews_text\"])"
      ],
      "metadata": {
        "id": "ZWVAoQm0vbae"
      },
      "execution_count": null,
      "outputs": []
    },
    {
      "cell_type": "code",
      "source": [
        "tokenizer = Tokenizer(inputCol=\"reviews_text\", outputCol=\"words\")\n",
        "tokenized = tokenizer.transform(df)"
      ],
      "metadata": {
        "id": "btTxyvTHpKKD"
      },
      "execution_count": null,
      "outputs": []
    },
    {
      "cell_type": "code",
      "source": [
        "hashingTF = HashingTF(inputCol=\"words\", outputCol=\"rawFeatures\", numFeatures=10000)\n",
        "tf = hashingTF.transform(tokenized)"
      ],
      "metadata": {
        "id": "KMns6Pr8tLZX"
      },
      "execution_count": null,
      "outputs": []
    },
    {
      "cell_type": "code",
      "source": [
        "idf = IDF(inputCol=\"rawFeatures\", outputCol=\"features\")\n",
        "idfModel = idf.fit(tf)\n",
        "tfidf = idfModel.transform(tf)"
      ],
      "metadata": {
        "id": "aD8SvYkiur8W"
      },
      "execution_count": null,
      "outputs": []
    },
    {
      "cell_type": "code",
      "source": [
        "df.printSchema()\n"
      ],
      "metadata": {
        "colab": {
          "base_uri": "https://localhost:8080/"
        },
        "id": "VrIkl5g-pdtV",
        "outputId": "5f1a3994-c62f-42bb-df6a-3e45a332bb7a"
      },
      "execution_count": null,
      "outputs": [
        {
          "output_type": "stream",
          "name": "stdout",
          "text": [
            "root\n",
            " |-- id: string (nullable = true)\n",
            " |-- brand: string (nullable = true)\n",
            " |-- categories: string (nullable = true)\n",
            " |-- dateAdded: string (nullable = true)\n",
            " |-- dateUpdated: string (nullable = true)\n",
            " |-- ean: string (nullable = true)\n",
            " |-- keys: string (nullable = true)\n",
            " |-- manufacturer: string (nullable = true)\n",
            " |-- manufacturerNumber: string (nullable = true)\n",
            " |-- name: string (nullable = true)\n",
            " |-- reviews.date: string (nullable = true)\n",
            " |-- reviews.dateAdded: string (nullable = true)\n",
            " |-- reviews.dateSeen: string (nullable = true)\n",
            " |-- reviews.didPurchase: string (nullable = true)\n",
            " |-- reviews.doRecommend: string (nullable = true)\n",
            " |-- reviews.id: string (nullable = true)\n",
            " |-- reviews.numHelpful: string (nullable = true)\n",
            " |-- reviews.rating: string (nullable = true)\n",
            " |-- reviews.sourceURLs: string (nullable = true)\n",
            " |-- reviews.text: string (nullable = true)\n",
            " |-- reviews.title: string (nullable = true)\n",
            " |-- reviews.userCity: string (nullable = true)\n",
            " |-- reviews.userProvince: string (nullable = true)\n",
            " |-- reviews.username: string (nullable = true)\n",
            " |-- upc: string (nullable = true)\n",
            "\n"
          ]
        }
      ]
    },
    {
      "cell_type": "code",
      "source": [
        "tfidf.select(\"id\", \"features\").show()"
      ],
      "metadata": {
        "colab": {
          "base_uri": "https://localhost:8080/"
        },
        "id": "JW0fldPzpKPr",
        "outputId": "a442e3db-18db-40d1-ea5b-5b9e6e8eb250"
      },
      "execution_count": null,
      "outputs": [
        {
          "output_type": "stream",
          "name": "stdout",
          "text": [
            "+--------------------+--------------------+\n",
            "|                  id|            features|\n",
            "+--------------------+--------------------+\n",
            "|AV13O1A8GV-KLJ3akUyj|(10000,[163,307,4...|\n",
            "|AV14LG0R-jtxr-f38QfS|(10000,[2752,4495...|\n",
            "|AV14LG0R-jtxr-f38QfS|(10000,[2752,6168...|\n",
            "|AV16khLE-jtxr-f38VFn|(10000,[198,307,4...|\n",
            "|AV16khLE-jtxr-f38VFn|(10000,[80,1345,1...|\n",
            "|AV16khLE-jtxr-f38VFn|(10000,[55,431,48...|\n",
            "|AV16khLE-jtxr-f38VFn|(10000,[274,307,4...|\n",
            "|AV16khLE-jtxr-f38VFn|(10000,[447,488,8...|\n",
            "|AV16khLE-jtxr-f38VFn|(10000,[1226,1263...|\n",
            "|AV16khLE-jtxr-f38VFn|(10000,[307,495,6...|\n",
            "|AV16khLE-jtxr-f38VFn|(10000,[80,387,48...|\n",
            "|AV16khLE-jtxr-f38VFn|(10000,[25,775,12...|\n",
            "|AV16khLE-jtxr-f38VFn|(10000,[431,488,6...|\n",
            "|AV16khLE-jtxr-f38VFn|(10000,[740,1661,...|\n",
            "|AV16khLE-jtxr-f38VFn|(10000,[488,613,1...|\n",
            "|AV16khLE-jtxr-f38VFn|(10000,[447,1588,...|\n",
            "|AV16khLE-jtxr-f38VFn|(10000,[80,447,48...|\n",
            "|AV16khLE-jtxr-f38VFn|(10000,[488,1756,...|\n",
            "|AV16khLE-jtxr-f38VFn|(10000,[157,431,4...|\n",
            "|AV16khLE-jtxr-f38VFn|(10000,[960,1226,...|\n",
            "+--------------------+--------------------+\n",
            "only showing top 20 rows\n",
            "\n"
          ]
        }
      ]
    },
    {
      "cell_type": "code",
      "source": [
        "# Convert Spark DataFrame to Pandas DataFrame\n",
        "tfidf_pd_df = tfidf.select(\"id\", \"features\").toPandas()\n",
        "\n",
        "# Save Pandas DataFrame to CSV file\n",
        "tfidf_pd_df.to_csv(\"/content/drive/MyDrive/Colab Notebooks/tfidf_output.csv\", index=False)"
      ],
      "metadata": {
        "id": "KbiRWtZtpKXF"
      },
      "execution_count": null,
      "outputs": []
    }
  ]
}